{
 "cells": [
  {
   "cell_type": "markdown",
   "metadata": {},
   "source": [
    "# QTL analyses of ECHO derived traits in JAX CR study\n",
    "\n",
    "    Goal: to conduct GxEMM heritabilty and linkage mapping analysis of ECHO traits"
   ]
  },
  {
   "cell_type": "code",
   "execution_count": 23,
   "metadata": {
    "code_folding": [
     0
    ]
   },
   "outputs": [
    {
     "data": {
      "text/html": [
       "<style>.container { width:100% !important; }</style>"
      ],
      "text/plain": [
       "<IPython.core.display.HTML object>"
      ]
     },
     "metadata": {},
     "output_type": "display_data"
    }
   ],
   "source": [
    "### import packages\n",
    "\n",
    "from IPython.core.display import display, HTML\n",
    "display(HTML(\"<style>.container { width:100% !important; }</style>\"))\n",
    "\n",
    "#%load_ext autoreload\n",
    "#%autoreload 2\n",
    "\n",
    "import re, os, csv, pdb, sys, warnings\n",
    "sys.path.append('/home/wright/')\n",
    "warnings.filterwarnings('ignore')\n",
    "\n",
    "import numpy as np\n",
    "import scipy.stats as stats\n",
    "import matplotlib.pyplot as plot\n",
    "from sklearn.linear_model import LinearRegression\n",
    "from statsmodels.stats import multitest\n",
    "import pybedtools\n",
    "pybedtools.helpers.set_bedtools_path(path='/home/anil/software/miniconda3/bin/')\n",
    "#from qvalue.qvalue import qvalue\n",
    "import pysam\n",
    "import pickle\n",
    "import subprocess\n",
    "import time\n",
    "import sqlite3\n",
    "import pandas as pd\n",
    "\n",
    "##import mouse gff file\n",
    "gene_conn = sqlite3.connect(\"/group/diversity_outcross/genetics/jax/geno_data_raw/mouse_genes_mgi.sqlite\")\n",
    "gene_db = gene_conn.cursor()\n",
    "gene_db.execute(\"PRAGMA table_info(genes)\")\n",
    "gene_columns = [column for column in gene_db]\n",
    "#print([c[1] for c in gene_columns])\n",
    "\n",
    "##import all snp variants from collaborative cross\n",
    "variant_conn = sqlite3.connect(\"/group/diversity_outcross/genetics/jax/geno_data_raw/cc_variants.sqlite\")\n",
    "variant_db = variant_conn.cursor()\n",
    "variant_db.execute(\"PRAGMA table_info(variants)\")\n",
    "variant_columns = [column for column in variant_db]\n",
    "\n",
    "##import tools from do_qtl package\n",
    "from do_qtl.lib.models import gxemm\n",
    "from do_qtl.lib import data_io as io\n"
   ]
  },
  {
   "cell_type": "code",
   "execution_count": 2,
   "metadata": {},
   "outputs": [],
   "source": [
    "DIETS = ['AL', '20', '40', '1D', '2D']\n",
    "DIET_COLORS =  ['grey', 'lightblue', 'blue', 'orange', 'darkorange']\n",
    "GEN_WAVE = ['G22W1'] #12 genwaves in total\n"
   ]
  },
  {
   "cell_type": "markdown",
   "metadata": {},
   "source": [
    "## 1. Load Pheno, Covariate, & Kinship Files\n"
   ]
  },
  {
   "cell_type": "code",
   "execution_count": 30,
   "metadata": {},
   "outputs": [],
   "source": [
    "########## edit phenotypes, yr1, 2, 2-1\n",
    "working_dir = \"/home/wright/do_qtl/echo/\"\n",
    "#pheno_yr123_file = working_dir+\"Echo_Processed_BatchBWAdjusted_20201123.csv\"\n",
    "pheno_yr123_file = working_dir+\"Echo_Processed_BatchAdjusted_20201123.csv\"\n",
    "pheno_yr1_file = working_dir+\"echo_batch.adj_20201123.yr1.csv\"\n",
    "pheno_yr2_file = working_dir+\"echo_batch.adj_20201123.yr2.csv\"\n",
    "pheno_yr3_file = working_dir+\"echo_batch.adj_20201123.yr3.csv\"\n",
    "\n",
    "df = pd.read_csv(pheno_yr123_file)\n",
    "df1 = df[df['Timepoint'] == '10 months']\n",
    "df1.to_csv(pheno_yr1_file, header=True, sep=\",\", index=False)\n",
    "\n",
    "df2 = df[df['Timepoint'] == '22 months']\n",
    "df2.to_csv(pheno_yr2_file, header=True, sep=\",\", index=False)\n",
    "\n",
    "df3 = df[df['Timepoint'] == '34 months']\n",
    "df3.to_csv(pheno_yr3_file, header=True, sep=\",\", index=False)\n"
   ]
  },
  {
   "cell_type": "code",
   "execution_count": 31,
   "metadata": {},
   "outputs": [
    {
     "name": "stdout",
     "output_type": "stream",
     "text": [
      "['DO-AL-0001', 'DO-20-1001', 'DO-40-2001', 'DO-1D-3001', 'DO-2D-4001']\n"
     ]
    }
   ],
   "source": [
    "########## load pheno\n",
    "working_dir = \"/home/wright/do_qtl/echo/\"\n",
    "phenotype_file = pheno_yr1_file\n",
    "\n",
    "phenotype_name = \"CardiacOutput\"\n",
    "phenotype = io.Phenotype()\n",
    "phenotype.load(phenotype_file, phenotype_name)\n",
    "print(phenotype.all_samples[:5])"
   ]
  },
  {
   "cell_type": "code",
   "execution_count": 32,
   "metadata": {},
   "outputs": [
    {
     "name": "stdout",
     "output_type": "stream",
     "text": [
      "['AL', '20', '40', '1D', '2D']\n",
      "['G22W1', 'G22W2', 'G23W1', 'G23W2', 'G24W1', 'G24W2', 'G26W1', 'G26W2', 'G27W1', 'G27W2', 'G28W1', 'G28W2']\n",
      "960\n"
     ]
    }
   ],
   "source": [
    "# load diet covariates \n",
    "covar_dir = \"/group/diversity_outcross/nonmetabolic_cage/jax/\"\n",
    "diet_covariate_file = covar_dir+\"diet_covariates.csv\"\n",
    "diet_covariate = io.Covariate(test_gxe=True, effect='fixed', gxe=True) #test_gxe=True -- we will test for interaction between kinship x diet\n",
    "diet_covariate.load(diet_covariate_file)\n",
    "print(diet_covariate.names)\n",
    "\n",
    "# load generation covariates\n",
    "gen_covariate_file = covar_dir+\"generation_covariates.csv\"\n",
    "gen_covariate = io.Covariate(test_gxe=False, effect='fixed', gxe=True) #test_gxe=False -- do not test for interaction between kinship x diet\n",
    "gen_covariate.load(gen_covariate_file)\n",
    "print(gen_covariate.names)\n",
    "\n",
    "# store all covariate objects as a list\n",
    "covariates = [diet_covariate, gen_covariate]\n",
    "print(len(gen_covariate.data))"
   ]
  },
  {
   "cell_type": "code",
   "execution_count": 33,
   "metadata": {},
   "outputs": [],
   "source": [
    "# load kinship\n",
    "genetics_dir = \"/group/diversity_outcross/genetics/jax/geno_data_proc/\"\n",
    "kinship_file = genetics_dir+\"kinship_matrix.genoprob.csv\" ##double check with Anil - from genotypes or genoprobs?\n",
    "\n",
    "genotype = io.Genotype()\n",
    "genotype.load_kinship(kinship_file)"
   ]
  },
  {
   "cell_type": "markdown",
   "metadata": {},
   "source": [
    "## 2. Run Analysis - calc PVE"
   ]
  },
  {
   "cell_type": "code",
   "execution_count": 39,
   "metadata": {},
   "outputs": [
    {
     "name": "stdout",
     "output_type": "stream",
     "text": [
      "886\n"
     ]
    }
   ],
   "source": [
    "# subset to common samples\n",
    "io.intersect_datasets(genotype, phenotype, covariates)\n",
    "print(genotype.N_samples)"
   ]
  },
  {
   "cell_type": "code",
   "execution_count": 35,
   "metadata": {},
   "outputs": [
    {
     "name": "stdout",
     "output_type": "stream",
     "text": [
      "960\n",
      "240\n",
      "221\n"
     ]
    }
   ],
   "source": [
    "### subset number of samples. helps when testing code\n",
    "df = pd.read_csv(diet_covariate_file)\n",
    "#print(df.head(n=2))\n",
    "test_samples = df['mouse_id'].tolist()\n",
    "print(len(test_samples))\n",
    "x = 4\n",
    "test_samples = test_samples[::x] ##take every x sample -- ie every 4th\n",
    "print(len(test_samples))\n",
    "# subset to common samples\n",
    "#io.intersect_datasets(genotype, phenotype, covariates, at_samples=test_samples)\n",
    "#print(genotype.N_samples)"
   ]
  },
  {
   "cell_type": "code",
   "execution_count": null,
   "metadata": {},
   "outputs": [],
   "source": [
    "# fit the model\n",
    "model = gxemm.Gxemm(genotype.kinship,\n",
    "                    phenotype.data,\n",
    "                    covariates)\n",
    "\n",
    "# set get_serr=True, if you want to compute\n",
    "# the standard error of the PVE estimate\n",
    "model.fit_pve(get_serr=True)"
   ]
  },
  {
   "cell_type": "code",
   "execution_count": 38,
   "metadata": {
    "scrolled": true
   },
   "outputs": [
    {
     "name": "stdout",
     "output_type": "stream",
     "text": [
      "[1.00000000e-12 7.15519136e+06 7.84720899e+06 1.00000000e-12\n",
      " 1.13491787e+07 2.51753737e+07 1.00000000e-12 1.85812665e+07\n",
      " 1.46842060e+07 1.52280300e+07 1.35658392e+07 2.04475024e+07\n",
      " 9.74013234e+06 9.57602202e+06 2.05181064e+07 9.93911912e+06\n",
      " 4.91744216e+06 2.29777558e+07]\n",
      "[1.e-12 1.e-12 1.e-12 1.e-12 1.e-12 1.e-12 1.e-12 1.e-12 1.e-12 1.e-12\n",
      " 1.e-12 1.e-12 1.e-12 1.e-12 1.e-12 1.e-12 1.e-12]\n",
      "[1.e-12]\n",
      "Total PVE = 0.0000; Std. err = 0.0743\n",
      "PVE in AL diet = 0.0000; Std. err = 0.1062\n",
      "PVE in 20 diet = 0.0000; Std. err = 0.0810\n",
      "PVE in 40 diet = 0.0000; Std. err = 0.0998\n",
      "PVE in 1D diet = 0.0000; Std. err = 0.0654\n",
      "PVE in 2D diet = 0.0000; Std. err = 0.0546\n"
     ]
    }
   ],
   "source": [
    "##print\n",
    "print(model.sigma)  # noise terms, first is shared noise. gene x diet -- whatever gxe_test=True. often sigma can be zero\n",
    "print(model.omega)  # diet + gen specific noise, Var_Err . this can often be high, and diet specific. leading to large deviations from gxemm and emma.\n",
    "print(model.rho)    # additive variance --- emma total variance result\n",
    "\n",
    "# output PVE results\n",
    "print(\"Total PVE = %.4f; Std. err = %.4f\"%(model.total_pve, model.total_pve_serr))\n",
    "#print(\"Total PVE = %.4f; \"%(model.total_pve))\n",
    "\n",
    "# the first 5 entries in model.pve contain\n",
    "# the PVE of body weight in each dietary context\n",
    "for diet, p, p_se in zip(diet_covariate.names, model.pve, model.pve_serr):\n",
    "  print(\"PVE in %s diet = %.4f; Std. err = %.4f\"%(diet, p, p_se))\n",
    "\n",
    "#for diet, p in zip(diet_covariate.names, model.pve):\n",
    "#  print(\"PVE in %s diet = %.4f\"%(diet, p))"
   ]
  },
  {
   "cell_type": "markdown",
   "metadata": {},
   "source": [
    "## 3. Run GWAS + Estimate Effects"
   ]
  },
  {
   "cell_type": "code",
   "execution_count": 46,
   "metadata": {},
   "outputs": [
    {
     "name": "stdout",
     "output_type": "stream",
     "text": [
      "Submitted batch job 22384744\n",
      "Submitted batch job 22384745\n",
      "/home/wright/do_qtl/echo/logs/effects_chrm15_CardiacOutput.log\n",
      "Submitted batch job 22384746\n",
      "Submitted batch job 22384747\n",
      "/home/wright/do_qtl/echo/logs/effects_chrm19_CardiacOutput.log\n"
     ]
    }
   ],
   "source": [
    "genetics_dir = \"/group/diversity_outcross/genetics/jax/geno_data_proc/\"\n",
    "\n",
    "working_dir = \"/home/wright/do_qtl/echo/\"\n",
    "script_dir = \"/home/wright/do_qtl/analysis/\"\n",
    "log_dir = working_dir+\"logs/\"\n",
    "\n",
    "chrm_list = ['1', '2', '3', '4', '5', '6', '7', '8', '9', '10', '11', '12', '13', '14', '15', '16', '17', '18', '19', 'X']\n",
    "chrm_list = ['15','19']\n",
    "\n",
    "phenotype_file = pheno_yr1_file\n",
    "phenotype = \"CardiacOutput\"\n",
    "covar_dir = \"/group/diversity_outcross/nonmetabolic_cage/jax/\"\n",
    "covar_diet = covar_dir+\"diet_covariates.csv\"\n",
    "covar_gen = covar_dir+\"generation_covariates.csv\"\n",
    "\n",
    "for chrm in chrm_list:\n",
    "    genotype_file = genetics_dir+\"prob.8state.allele.qtl2_200131.Rdata.\"+chrm+\".csv\"\n",
    "    log_file = log_dir+\"qtl_chrm\"+chrm+\"_\"+phenotype+\".log\"\n",
    "    script_gwas = script_dir+\"run_gwa_analysis.py\"\n",
    "    sbatch_script = script_gwas+\"_\"+chrm+\".sh\"\n",
    "    fOUT = open(sbatch_script, 'w')\n",
    "    print (\"#!/bin/bash\", file=fOUT)\n",
    "    print (\"#SBATCH --cpus-per-task=1\", file=fOUT)\n",
    "    print (\"#SBATCH --ntasks-per-node=1\", file=fOUT) \n",
    "    print (\"#SBATCH --mem-per-cpu=5400\", file=fOUT)\n",
    "    print ( \"#SBATCH --job-name=qtl_gxemm\", file=fOUT)\n",
    "    print ( \"#SBATCH --partition=standard\", file=fOUT)\n",
    "    print ( \"#SBATCH --output=\"+log_file, file=fOUT)\n",
    "    print ( \"#SBATCH --error=\"+log_file+\".err\", file=fOUT)\n",
    "\n",
    "    print ( \"source activate mypython3\", file=fOUT)\n",
    "    print ( \"python \"+script_gwas+\" --chromosome \"+chrm+\" --genotype_file \"+genotype_file + \\\n",
    "           \" --phenotype_file \"+phenotype_file+ \" --phenotype \"+phenotype+ \\\n",
    "           \" --covar_diet_file \"+covar_diet + \" --covar_gen_file \"+covar_gen, file=fOUT)\n",
    "    \n",
    "    fOUT.close()\n",
    "    !ssh wright@cb \"cd {working_dir}; sbatch {sbatch_script} \"\n",
    "    \n",
    "    ##submit gwas effect estiamtes\n",
    "    log_file = log_dir+\"effects_chrm\"+chrm+\"_\"+phenotype+\".log\"\n",
    "    script_effects = script_dir+\"run_gxemm_effects.py\"\n",
    "    sbatch_script = script_gwas+\"_\"+chrm+\".sh\"\n",
    "    fOUT = open(sbatch_script, 'w')\n",
    "    print (\"#!/bin/bash\", file=fOUT)\n",
    "    print (\"#SBATCH --cpus-per-task=1\", file=fOUT)\n",
    "    print (\"#SBATCH --ntasks-per-node=1\", file=fOUT) \n",
    "    print (\"#SBATCH --mem-per-cpu=5400\", file=fOUT)\n",
    "    print ( \"#SBATCH --job-name=effect_gxemm\", file=fOUT)\n",
    "    print ( \"#SBATCH --partition=standard\", file=fOUT)\n",
    "    print ( \"#SBATCH --output=\"+log_file, file=fOUT)\n",
    "    print ( \"#SBATCH --error=\"+log_file+\".err\", file=fOUT)\n",
    "\n",
    "    print ( \"source activate mypython3\", file=fOUT)\n",
    "    print ( \"python \"+script_effects+\" --chromosome \"+chrm+\" --genotype_file \"+genotype_file + \\\n",
    "           \" --phenotype_file \"+phenotype_file+ \" --phenotype \"+phenotype+ \\\n",
    "           \" --covar_diet_file \"+covar_diet + \" --covar_gen_file \"+covar_gen, file=fOUT)\n",
    "    \n",
    "    fOUT.close()\n",
    "    !ssh wright@cb \"cd {working_dir}; sbatch {sbatch_script} \"\n",
    "    print (log_file)\n",
    "    "
   ]
  },
  {
   "cell_type": "code",
   "execution_count": 47,
   "metadata": {},
   "outputs": [
    {
     "name": "stdout",
     "output_type": "stream",
     "text": [
      "/home/wright/do_qtl/echo/logs/effects_chrm19_CardiacOutput.log\n",
      "             JOBID PARTITION     NAME     USER ST       TIME  NODES NODELIST(REASON)\n",
      "          22352760  standard subset_v   wright  R    8:19:17      1 n0044\n",
      "          22352762  standard subset_v   wright  R    8:19:17      1 n0045\n",
      "          22352759  standard subset_v   wright  R    8:19:20      1 n0012\n",
      "/home/wright/do_qtl/echo/echo_batch.adj_20201123.yr1.csv CardiacOutput 19 /group/diversity_outcross/genetics/jax/geno_data_proc/prob.8state.allele.qtl2_200131.Rdata.19.csv /group/diversity_outcross/nonmetabolic_cage/jax/diet_covariates.csv /group/diversity_outcross/nonmetabolic_cage/jax/generation_covariates.csv\n",
      "['AL', '20', '40', '1D', '2D']\n",
      "['G22W1', 'G22W2', 'G23W1', 'G23W2', 'G24W1', 'G24W2', 'G26W1', 'G26W2', 'G27W1', 'G27W2', 'G28W1', 'G28W2']\n",
      "n samples 0\n",
      "/home/wright/do_qtl/echo/effects_output.CardiacOutput.19.csv\n",
      "['variant.id', 'additive.LOD', 'additive.p.value', 'additive.intercept', 'additive.effect.size.A', 'additive.effect.size.B', 'additive.effect.size.C', 'additive.effect.size.D', 'additive.effect.size.E', 'additive.effect.size.F', 'additive.effect.size.G', 'additive.effect.size.H', 'additive.intercept.serr', 'additive.effect.size.serr.A', 'additive.effect.size.serr.B', 'additive.effect.size.serr.C', 'additive.effect.size.serr.D', 'additive.effect.size.serr.E', 'additive.effect.size.serr.F', 'additive.effect.size.serr.G', 'additive.effect.size.serr.H', 'interaction.LOD', 'interaction.p.value', 'interaction.intercept', 'interaction.effect.size.A', 'interaction.effect.size.B', 'interaction.effect.size.C', 'interaction.effect.size.D', 'interaction.effect.size.E', 'interaction.effect.size.F', 'interaction.effect.size.G', 'interaction.effect.size.H', 'interaction.intercept.serr', 'interaction.effect.size.serr.A', 'interaction.effect.size.serr.B', 'interaction.effect.size.serr.C', 'interaction.effect.size.serr.D', 'interaction.effect.size.serr.E', 'interaction.effect.size.serr.F', 'interaction.effect.size.serr.G', 'interaction.effect.size.serr.H']\n",
      "estimating variance components under the null model ...\n",
      "/home/wright/anaconda2/envs/mypython3/lib/python3.8/site-packages/numpy/core/fromnumeric.py:3505: RuntimeWarning: Degrees of freedom <= 0 for slice\n",
      "  return _methods._var(a, axis=axis, dtype=dtype, out=out, ddof=ddof,\n",
      "/home/wright/anaconda2/envs/mypython3/lib/python3.8/site-packages/numpy/core/_methods.py:185: RuntimeWarning: invalid value encountered in true_divide\n",
      "  arrmean = um.true_divide(\n",
      "/home/wright/anaconda2/envs/mypython3/lib/python3.8/site-packages/numpy/core/_methods.py:206: RuntimeWarning: invalid value encountered in true_divide\n",
      "  ret = um.true_divide(\n",
      "Traceback (most recent call last):\n",
      "  File \"/home/wright/do_qtl/analysis/run_gxemm_effects.py\", line 139, in <module>\n",
      "    main()\n",
      "  File \"/home/wright/do_qtl/analysis/run_gxemm_effects.py\", line 101, in main\n",
      "    for result in results:\n",
      "  File \"/home/wright/do_qtl/lib/models/gxemm.py\", line 780, in run_finemap\n",
      "    null_param, null_likelihood = self.fit_variance_components(X_null, Y)\n",
      "  File \"/home/wright/do_qtl/lib/models/gxemm.py\", line 292, in fit_variance_components\n",
      "    core = Core(X_, kinships, params=init_param)\n",
      "  File \"/home/wright/do_qtl/lib/models/gxemm.py\", line 46, in __init__\n",
      "    raise AssertionError(\"There should be at least one matrix in each group \\\n",
      "AssertionError: There should be at least one matrix in each group                                   defining the covariance matrix.\n"
     ]
    }
   ],
   "source": [
    "print (log_file)\n",
    "#log_file = \"/home/wright/do_mice/qtl_lifespan_gxemm/logs/gxemm_chrm18.qtl.log\"\n",
    "!ssh cb \"squeue -u wright\"\n",
    "!ssh cb \"head -n 4000 {log_file}\"\n",
    "!ssh cb \"head -n 400 {log_file}.err\""
   ]
  },
  {
   "cell_type": "markdown",
   "metadata": {},
   "source": [
    "## 5. Run Fine Mapping "
   ]
  },
  {
   "cell_type": "code",
   "execution_count": 4,
   "metadata": {},
   "outputs": [],
   "source": []
  },
  {
   "cell_type": "code",
   "execution_count": 23,
   "metadata": {},
   "outputs": [
    {
     "name": "stdout",
     "output_type": "stream",
     "text": [
      "Submitted batch job 13907200\n",
      "/home/wright/do_mice/qtl_lifespan_gxemm/logs/fine_all_add.covgen.sty.sex_int.covdiet_chrm16.4000000.log\n",
      "Submitted batch job 13907201\n",
      "/home/wright/do_mice/qtl_lifespan_gxemm/logs/fine_all_add.covgen.sty.sex_int.covdiet_chrm1.2000000.log\n",
      "Submitted batch job 13907202\n",
      "/home/wright/do_mice/qtl_lifespan_gxemm/logs/fine_all_add.covgen.sty.sex_int.covdiet_chrm6.98000000.log\n",
      "Submitted batch job 13907203\n",
      "/home/wright/do_mice/qtl_lifespan_gxemm/logs/fine_all_add.covgen.sty.sex_int.covdiet_chrm9.11000000.log\n",
      "Submitted batch job 13907204\n",
      "/home/wright/do_mice/qtl_lifespan_gxemm/logs/fine_all_add.covgen.sty.sex_int.covdiet_chrm14.107000000.log\n",
      "Submitted batch job 13907205\n",
      "/home/wright/do_mice/qtl_lifespan_gxemm/logs/fine_all_add.covgen.sty.sex_int.covdiet_chrm18.15000000.log\n"
     ]
    }
   ],
   "source": [
    "working_dir = \"/home/wright/do_mice/qtl_lifespan_191022_deh_ell_jac/\"\n",
    "output_dir = \"/home/wright/do_mice/qtl_lifespan_gxemm/\"\n",
    "script_dir = \"/home/wright/diversity_outcross/analysis/qtl/\"\n",
    "log_dir = output_dir+\"logs/\"\n",
    "\n",
    "script_file = script_dir+\"run_finemap_genoprob_analysis_ls.py\" \n",
    "sbatch_script = script_file+\".sh\"\n",
    "\n",
    "sigloci_dict = {\n",
    "            '16':['4000000','13500000'],\n",
    "            '1':['2000000','4000000'],    ##st & end in bp, not Mb\n",
    "            '6':['98000000','108000000'], \n",
    "            '9':['11000000','18000000'], \n",
    "            '14':['107000000','121000000'], \n",
    "            '18':['15000000','25000000']\n",
    "            }\n",
    "model = 'gxe' #'emma'\n",
    "phenotype = 'Lifespan.Zsc'\n",
    "#focal_pop = 'jac'\n",
    "focal_pop = 'all'\n",
    "\n",
    "#input files\n",
    "if focal_pop == 'all':\n",
    "    phenotype_file = working_dir+\"source_data_dir/lifespan_pheno_200326.csv\"\n",
    "    #covar_add_file = \"/home/wright/do_mice/qtl_lifespan_191022_deh_ell_jac/source_data_dir/covar_gen_200326.csv\"\n",
    "    covar_inter_file = \"/home/wright/do_mice/qtl_lifespan_191022_deh_ell_jac/source_data_dir/covar_diet_200326.csv\"\n",
    "    covar_add_file = \"/home/wright/do_mice/qtl_lifespan_191022_deh_ell_jac/source_data_dir/covar_gen.sty.sex_200326.csv\"\n",
    "    #covar_add_file = 'NA'\n",
    "    covar_add = 'gen.sty.sex'\n",
    "    covar_inter = 'diet'\n",
    "\n",
    "if focal_pop == 'jac':\n",
    "    phenotype_file = working_dir+\"source_data_dir/lifespan_jac.csv\"\n",
    "    covar_add_file = working_dir+\"source_data_dir/covar_gen_study_jac.csv\"\n",
    "    #covar_add_file = 'NA'\n",
    "    covar_inter_file = working_dir+\"source_data_dir/covar_sex_study_jac.csv\"\n",
    "    covar_add = 'gen'\n",
    "    covar_inter = 'sex'\n",
    "    \n",
    "for chrm in sigloci_dict:\n",
    "    locus_st = sigloci_dict[chrm][0]\n",
    "    locus_end = sigloci_dict[chrm][1]\n",
    "        \n",
    "    output_file = output_dir+\"fine_\"+focal_pop+\"_add.cov\"+covar_add+\"_int.cov\"+covar_inter+\"_chrm\"+chrm+\".\"+locus_st+\".csv\"\n",
    "    log_file = log_dir+\"fine_\"+focal_pop+\"_add.cov\"+covar_add+\"_int.cov\"+covar_inter+\"_chrm\"+chrm+\".\"+locus_st+\".log\"\n",
    "    \n",
    "    fOUT = open(sbatch_script, 'w')\n",
    "    print (\"#!/bin/bash\", file=fOUT)\n",
    "    print (\"#SBATCH --cpus-per-task=1\", file=fOUT)\n",
    "    print (\"#SBATCH --ntasks-per-node=1\", file=fOUT) \n",
    "    print (\"#SBATCH --mem-per-cpu=8400\", file=fOUT)\n",
    "    print ( \"#SBATCH --job-name=fine_ls\", file=fOUT)\n",
    "    print ( \"#SBATCH --partition=standard\", file=fOUT)\n",
    "    print ( \"#SBATCH --output=\"+log_file, file=fOUT)\n",
    "    print ( \"#SBATCH --error=\"+log_file+\".err\", file=fOUT)\n",
    "\n",
    "    print ( \"source activate mypython3\", file=fOUT)\n",
    "    print ( \"python \"+script_file+\" \"+chrm+\" \"+locus_st+\" \"+locus_end+\" \"+phenotype_file+\" \"+phenotype+\" \"+covar_add_file+\" \"+covar_inter_file+\" \"+model+\" \"+output_file, file=fOUT)\n",
    "    fOUT.close()\n",
    "\n",
    "    !ssh wright@cb \"cd {working_dir}; sbatch {sbatch_script} \"\n",
    "    print (log_file)\n",
    "\n",
    "    "
   ]
  },
  {
   "cell_type": "code",
   "execution_count": 28,
   "metadata": {},
   "outputs": [
    {
     "name": "stdout",
     "output_type": "stream",
     "text": [
      "/home/wright/do_mice/qtl_lifespan_gxemm/logs/fine_all_add.covgen.sty.sex_int.covdiet_chrm18.15000000.log\n",
      "             JOBID PARTITION     NAME     USER ST       TIME  NODES NODELIST(REASON)\n",
      "          13907203  standard  fine_ls   wright  R       2:15      1 d03\n",
      "          13907204  standard  fine_ls   wright  R       2:15      1 n0003\n",
      "          13907205  standard  fine_ls   wright  R       2:15      1 n0004\n",
      "          13907200  standard  fine_ls   wright  R       2:17      1 d03\n",
      "          13907201  standard  fine_ls   wright  R       2:17      1 n0045\n",
      "          13907202  standard  fine_ls   wright  R       2:17      1 n0002\n",
      "          13907162  standard  fine_ls   wright  R       4:18      1 d02\n",
      "          13907163  standard  fine_ls   wright  R       4:18      1 n0045\n",
      "          13907156  standard  fine_ls   wright  R       4:20      1 d01\n",
      "          13907157  standard  fine_ls   wright  R       4:20      1 d01\n",
      "          13907159  standard  fine_ls   wright  R       4:20      1 d01\n",
      "          13907155  standard  fine_ls   wright  R       4:22      1 d01\n"
     ]
    }
   ],
   "source": [
    "print (log_file)\n",
    "#log_file = '/home/wright/do_mice/qtl_lifespan_gxemm/logs/lifespan_jac_chrm18.log'\n",
    "!ssh cb \"squeue -u wright -n fine_ls\"\n",
    "!ssh cb \"head -n 4000 {log_file}\"\n",
    "!ssh cb \"head -n 400 {log_file}.err\""
   ]
  },
  {
   "cell_type": "code",
   "execution_count": null,
   "metadata": {},
   "outputs": [],
   "source": [
    "\n"
   ]
  },
  {
   "cell_type": "code",
   "execution_count": 31,
   "metadata": {},
   "outputs": [],
   "source": [
    "## Plot Fine Mapping Results\n",
    "import matplotlib.pyplot as plot\n",
    "import numpy as np\n",
    "import scipy.stats\n",
    "import pandas as pd\n",
    "import os\n",
    "\n",
    "output_dir = \"/home/wright/do_mice/qtl_lifespan_gxemm/\"\n",
    "plot_dir = \"/home/wright/do_mice/qtl_lifespan_gxemm/plots_200522/\"\n",
    "\n",
    "sigloci_dict = {\n",
    "            '16':['4000000','13500000'],\n",
    "            '1':['2000000','4000000'],    ##st & end in bp, not Mb\n",
    "            '6':['98000000','108000000'], \n",
    "            '9':['11000000','18000000'], \n",
    "            '14':['107000000','121000000'], \n",
    "            '18':['15000000','25000000']\n",
    "            }\n",
    "\n",
    "#igloci_dict = {\n",
    "#           '16':['4000000','13500000']\n",
    "#\n",
    "\n",
    "#focal_pop = 'jac'\n",
    "focal_pop = 'jac'\n",
    "\n",
    "if focal_pop == 'all':\n",
    "    phenotype_file = working_dir+\"source_data_dir/lifespan_pheno_200326.csv\"\n",
    "    covar_inter_file = \"/home/wright/do_mice/qtl_lifespan_191022_deh_ell_jac/source_data_dir/covar_diet_200326.csv\"\n",
    "    covar_add_file = \"/home/wright/do_mice/qtl_lifespan_191022_deh_ell_jac/source_data_dir/covar_gen.sty.sex_200326.csv\"\n",
    "\n",
    "    covar_add = 'gen.sty.sex'\n",
    "    covar_inter = 'diet'\n",
    "\n",
    "if focal_pop == 'jac':\n",
    "    phenotype_file = working_dir+\"source_data_dir/lifespan_jac.csv\"\n",
    "    covar_add_file = working_dir+\"source_data_dir/covar_gen_study_jac.csv\"\n",
    "\n",
    "    covar_inter_file = working_dir+\"source_data_dir/covar_sex_study_jac.csv\"\n",
    "    covar_add = 'gen'\n",
    "    covar_inter = 'sex'\n",
    "    "
   ]
  },
  {
   "cell_type": "code",
   "execution_count": 40,
   "metadata": {},
   "outputs": [
    {
     "data": {
      "image/png": "[encoded data removed]",
      "text/plain": [
       "<Figure size 576x324 with 2 Axes>"
      ]
     },
     "metadata": {
      "needs_background": "light"
     },
     "output_type": "display_data"
    },
    {
     "data": {
      "image/png": "[encoded data removed]",
      "text/plain": [
       "<Figure size 576x324 with 2 Axes>"
      ]
     },
     "metadata": {
      "needs_background": "light"
     },
     "output_type": "display_data"
    },
    {
     "data": {
      "image/png": "[encoded data removed]",
      "text/plain": [
       "<Figure size 576x324 with 2 Axes>"
      ]
     },
     "metadata": {
      "needs_background": "light"
     },
     "output_type": "display_data"
    },
    {
     "data": {
      "image/png": "[encoded data removed]",
      "text/plain": [
       "<Figure size 576x324 with 2 Axes>"
      ]
     },
     "metadata": {
      "needs_background": "light"
     },
     "output_type": "display_data"
    },
    {
     "data": {
      "image/png": "[encoded data removed]",
      "text/plain": [
       "<Figure size 576x324 with 2 Axes>"
      ]
     },
     "metadata": {
      "needs_background": "light"
     },
     "output_type": "display_data"
    },
    {
     "data": {
      "image/png": "[encoded data removed]",
      "text/plain": [
       "<Figure size 576x324 with 2 Axes>"
      ]
     },
     "metadata": {
      "needs_background": "light"
     },
     "output_type": "display_data"
    }
   ],
   "source": [
    "\n",
    "df_all = pd.DataFrame()\n",
    "working_dir = \"/home/wright/jax_cr_190429/simulation_GxEMM_200507/\"\n",
    "\n",
    "for chrm in sigloci_dict:\n",
    "    locus_st = sigloci_dict[chrm][0]\n",
    "    locus_end = sigloci_dict[chrm][1]\n",
    "        \n",
    "    output_file = output_dir+\"fine_\"+focal_pop+\"_add.cov\"+covar_add+\"_int.cov\"+covar_inter+\"_chrm\"+chrm+\".\"+locus_st+\".csv\"\n",
    "    \n",
    "    if os.path.isfile(output_file) is True:\n",
    "        if os.stat(output_file).st_size != 0:\n",
    "\n",
    "            df = pd.read_csv(output_file, index_col=False)\n",
    "            \n",
    "            figure = plot.figure(figsize=(8,4.5))\n",
    "            subplots = [figure.add_axes([0.10, 0.45, 0.83, 0.35]), #xmin, ymin, dx, and dy\n",
    "                        figure.add_axes([0.10, 0.10, 0.83, 0.35])]\n",
    "                       \n",
    "            titles = ['additive', 'interaction']\n",
    "            \n",
    "            subplots[0].scatter(df['location']/1e6,df['additive.LOD'],s=3, color='purple', alpha=0.8)\n",
    "            subplots[1].scatter(df['location']/1e6,df['interaction.LOD'],s=3, color='orange', alpha=0.8)\n",
    "            subplots[0].text(min(df['location']/1e6)+0.1, max(df['additive.LOD'])-0.1*max(df['additive.LOD']), titles[0], fontsize=10, horizontalalignment='left', verticalalignment='top')\n",
    "            subplots[1].text(min(df['location']/1e6)+0.1, max(df['interaction.LOD'])-0.1*max(df['interaction.LOD']), titles[1], fontsize=10, horizontalalignment='left', verticalalignment='top')\n",
    "            subplots[0].set_ylim(0,max(df['additive.LOD'])+0.05*max(df['additive.LOD']))\n",
    "            subplots[1].set_ylim(0,max(df['interaction.LOD'])+0.05*max(df['interaction.LOD']))\n",
    "            \n",
    "            figure.text(0.5, -0.025, 'Chrm'+str(chrm)+\" (Mb)\", fontsize=10, horizontalalignment='center', verticalalignment='bottom')\n",
    "            _ = figure.text(0., 0.5, 'LOD', fontsize=10, horizontalalignment='left', verticalalignment='center', rotation=90)\n",
    "            plot.show()\n",
    "            figure.savefig(plot_dir+'finemap_lod_chrm'+chrm+'.'+locus_st+'.png', dpi=400)\n"
   ]
  },
  {
   "cell_type": "code",
   "execution_count": 16,
   "metadata": {},
   "outputs": [
    {
     "data": {
      "text/plain": [
       "'/home/wright/do_mice/qtl_lifespan_gxemm/fine_all_add.covgen.sty.sex_int.covdiet_chrm16.4000000.csv'"
      ]
     },
     "execution_count": 16,
     "metadata": {},
     "output_type": "execute_result"
    }
   ],
   "source": [
    "output_file"
   ]
  },
  {
   "cell_type": "code",
   "execution_count": null,
   "metadata": {},
   "outputs": [],
   "source": [
    "import matplotlib.pyplot as plot\n",
    "import numpy as np\n",
    "import scipy.stats\n",
    "\n",
    "list_res_var2 = [1.0,2.0,5.0]\n",
    "\n",
    "for res_var2_tmp in list_res_var2:\n",
    "\n",
    "    #figure = plot.figure(figsize=(6,5))\n",
    "    figure = plot.figure(figsize=(8,2.5))\n",
    "\n",
    "    subplots = [figure.add_axes([0.10, 0.10, 0.83, 0.83])]\n",
    "\n",
    "    titles = ['fine map']\n",
    "\n",
    "    #for this plot - focus exclusively on simulations with 1:1 ratio in envA:envB\n",
    "    df_plot = df_all[df_all['res_var2'] == res_var2_tmp] #filter to only include env_thres = 0.5\n",
    "    df_plot = df_plot[df_plot['env_thres'] == 0.5]\n",
    "    df1 = df_plot.groupby(['h2_true'])\n",
    "    ct=0\n",
    "    for idx1, grp1 in df1:\n",
    "        if idx1 == 0.2 or idx1 == 0.5 or idx1 == 0.8: ##filter h2_true values to be only 0.2, 0.5, 0.8. 3 panels in plot 2B.\n",
    "            df2 = grp1.groupby(['h1_true'])\n",
    "            #plot\n",
    "            subplots[ct].plot([0,1], [0,1], linestyle='--', linewidth=1, color='grey')\n",
    "            subplots[ct].text(0.05, 0.975, titles[ct], fontsize=10, horizontalalignment='left', verticalalignment='top')\n",
    "\n",
    "            for idx2, grp2 in df2:\n",
    "                #print (ct, idx1, idx2)\n",
    "                x = grp2['h1_true'].unique()\n",
    "                median,lower,upper = mean_ci(grp2['gxe_h1'])\n",
    "                err_diff = upper-lower\n",
    "                err_center = lower+((upper-lower)/2.0)\n",
    "\n",
    "                #plot\n",
    "                #nudge=0.015\n",
    "                #subplots[ct].scatter(grp2['h1_true']+nudge+0.01,grp2['gxe_h1'],s=5, edgecolor='orange', facecolor='white', alpha=0.5)\n",
    "                subplots[ct].scatter(grp2['h1_true'],grp2['gxe_h1'],s=20, color='#AAAAAA', alpha=0.2)\n",
    "                subplots[ct].scatter(x,median,s=100, marker='_', color='orange')\n",
    "                subplots[ct].vlines(x,lower,upper, lw=1.5, color='orange')        \n",
    "\n",
    "            ct += 1\n",
    "\n",
    "    figure.text(0.5, -0.1, 'true h2_env1. res_var2'+str(res_var2_tmp), fontsize=10, horizontalalignment='center', verticalalignment='bottom')\n",
    "    _ = figure.text(0., 0.5, 'estimated h2_env1', fontsize=10, horizontalalignment='left', verticalalignment='center', rotation=90)\n",
    "    plot.show()\n",
    "    figure.savefig(working_dir+'sim_gxe_3panel_res_var2'+str(res_var2_tmp)+'.png', dpi=400)\n",
    "    figure.savefig(working_dir+'sim_gxe_3panel_res_var2'+str(res_var2_tmp)+'.pdf', dpi=400)"
   ]
  },
  {
   "cell_type": "code",
   "execution_count": null,
   "metadata": {},
   "outputs": [],
   "source": []
  },
  {
   "cell_type": "markdown",
   "metadata": {},
   "source": [
    "## Appendix - 1 Merge Genoprob Files from Three Studies. Create Kinship matrix in rQTL2"
   ]
  },
  {
   "cell_type": "code",
   "execution_count": 9,
   "metadata": {},
   "outputs": [
    {
     "name": "stdout",
     "output_type": "stream",
     "text": [
      "/home/wright/do_mice/qtl_lifespan_191022_deh_ell_jac/logs/merge_apr_JAC_ELL_HAR_200514.log\n"
     ]
    }
   ],
   "source": [
    "working_dir = \"/home/wright/do_mice/qtl_lifespan_191022_deh_ell_jac/\"\n",
    "\n",
    "data_dir = working_dir+\"source_data_dir/\"\n",
    "script_dir = working_dir+\"scripts/\"\n",
    "log_dir = working_dir+\"logs/\"\n",
    "\n",
    "r_script = script_dir+\"merge_apr_JAC_ELL_HAR_191023.r\" \n",
    "sbatch_script = r_script+\".sh\"\n",
    "#log_file = log_dir+\"merge_apr_JAC_ELL_HAR_191023.log\"\n",
    "log_file = log_dir+\"merge_apr_JAC_ELL_HAR_200514.log\"\n",
    "\n",
    "apr_jac_file = data_dir+\"prob.8state_jax_shock_191218.Rdata\"\n",
    "apr_ell_file = data_dir+\"prob.8state_ellison_191218.Rdata\"\n",
    "apr_har_file = data_dir+\"prob.8state_harris_191218.Rdata\"\n",
    "\n",
    "pheno_file = data_dir+\"combined_lifespan_hazard_191218.csv\"\n",
    "merge_apr = data_dir+\"prob.8state_all_191218.Rdata\"\n",
    "\n",
    "#if os.path.exists(merge_apr) is False:\n",
    "fOUT = open(sbatch_script, 'w')\n",
    "print (\"#!/bin/bash\", file=fOUT)\n",
    "print (\"#SBATCH --cpus-per-task=4\", file=fOUT)\n",
    "print (\"#SBATCH --ntasks-per-node=1\", file=fOUT) \n",
    "print (\"#SBATCH --mem-per-cpu=15400\", file=fOUT)\n",
    "print ( \"#SBATCH --job-name=merge\", file=fOUT)\n",
    "print ( \"#SBATCH --partition=gpu\", file=fOUT)\n",
    "print ( \"#SBATCH --output=\"+log_file, file=fOUT)\n",
    "print ( \"#SBATCH --error=\"+log_file+\".err\", file=fOUT)\n",
    "\n",
    "print ( \"Rscript \"+r_script+\" \"+data_dir+\" \"+apr_jac_file+\" \"+apr_ell_file+\" \"+apr_har_file+\" \"+merge_apr+\" \"+pheno_file, file=fOUT)\n",
    "fOUT.close()\n",
    "\n",
    "#!ssh wright@cb \"cd {working_dir}; sbatch {sbatch_script} \"\n",
    "print (log_file)"
   ]
  },
  {
   "cell_type": "code",
   "execution_count": 10,
   "metadata": {},
   "outputs": [
    {
     "name": "stdout",
     "output_type": "stream",
     "text": [
      "[1] \"input files: /home/wright/do_mice/qtl_lifespan_191022_deh_ell_jac/source_data_dir/prob.8state_jax_shock_191218.Rdata /home/wright/do_mice/qtl_lifespan_191022_deh_ell_jac/source_data_dir/prob.8state_ellison_191218.Rdata /home/wright/do_mice/qtl_lifespan_191022_deh_ell_jac/source_data_dir/prob.8state_harris_191218.Rdata\"\n",
      "[1] \"output_base: /home/wright/do_mice/qtl_lifespan_191022_deh_ell_jac/source_data_dir/prob.8state_all_191218.Rdata\"\n",
      "\n",
      "[1] \"num samples apr_jac 460\"\n",
      "[1] \"apr_jac id post edit\"\n",
      "[1] \"JAC_DO.0001\" \"JAC_DO.0002\" \"JAC_DO.0003\" \"JAC_DO.0004\" \"JAC_DO.0005\"\n",
      "[6] \"JAC_DO.0006\"\n",
      "[1] \"apr_markers\"\n",
      "  dimnames(apr_jac$`1`)[[3]]\n",
      "1                       UNC6\n",
      "2                JAX00000010\n",
      "3                JAX00240603\n",
      "4                JAX00240610\n",
      "5                JAX00240613\n",
      "6                JAX00240636\n",
      "\n",
      "[1] \"num samples apr_ell 623\"\n",
      "[1] \"apr_ell id post edit\"\n",
      "[1] \"ELL_9376F10.01\" \"ELL_9376F10.02\" \"ELL_9376F10.03\" \"ELL_9376F10.04\"\n",
      "[5] \"ELL_9376F10.05\" \"ELL_9376F10.06\"\n",
      "[1] \"apr_markers\"\n",
      "  dimnames(apr_ell$`1`)[[3]]\n",
      "1                       UNC6\n",
      "2                JAX00000010\n",
      "3                JAX00240603\n",
      "4                JAX00240610\n",
      "5                JAX00240613\n",
      "6                JAX00240636\n",
      "\n",
      "[1] \"num samples apr_har 1009\"\n",
      "[1] \"apr_mouse_ID post edit\"\n",
      "[1] \"DEH_5.1\"  \"DEH_5.2\"  \"DEH_5.3\"  \"DEH_32.1\" \"DEH_32.2\" \"DEH_32.3\"\n",
      "[1] \"apr_markers\"\n",
      "  dimnames(apr_har$`1`)[[3]]\n",
      "1                       UNC6\n",
      "2                JAX00000010\n",
      "3                JAX00240603\n",
      "4                JAX00240610\n",
      "5                JAX00240613\n",
      "6                JAX00240636\n",
      "\n",
      "[1] \"phenotype file /home/wright/do_mice/qtl_lifespan_191022_deh_ell_jac/source_data_dir/combined_lifespan_hazard_191218.csv\"\n",
      "[1] \"num samples 2459\"\n",
      "[1] \"phenotype input file\"\n",
      "[1] \"JAC_DO.0001\" \"JAC_DO.0002\" \"JAC_DO.0003\" \"JAC_DO.0004\" \"JAC_DO.0005\"\n",
      "[6] \"JAC_DO.0006\"\n",
      "[1] \"DEH_46.5\"   \"DEH_68.9\"   \"DEH_120.10\" \"DEH_144.7\"  \"DEH_78.10\" \n",
      "[6] \"DEH_45.9\"  \n",
      "[1] \"summary pre merge\"\n",
      "# A tibble: 8 x 5\n",
      "# Groups:   Study, Sex, Diet [8]\n",
      "  Study Sex   Diet  factor_StudyDietSex count\n",
      "  <fct> <fct> <fct> <chr>               <int>\n",
      "1 DEH   F     Chow  DEH_Chow_F            349\n",
      "2 DEH   F     CR    DEH_CR_F              335\n",
      "3 DEH   F     Rapa  DEH_Rapa_F            339\n",
      "4 ELL   F     Chow  ELL_Chow_F            319\n",
      "5 ELL   F     CR    ELL_CR_F              316\n",
      "6 ELL   F     Rapa  ELL_Rapa_F            317\n",
      "7 JAC   F     Chow  JAC_Chow_F            244\n",
      "8 JAC   M     Chow  JAC_Chow_M            240\n",
      "[1] \"num samples apr_rbind_1 1083\"\n",
      "[1] \"num samples apr_rbind_2 2092\"\n",
      "[1] \"test\"\n",
      "[1] \"num samples apr post pheno 2092\"\n",
      "[1] \"calc_kinship /home/wright/do_mice/qtl_lifespan_191022_deh_ell_jac/source_data_dir/kinship_all_200329\"\n",
      "[1] 2092 2092\n",
      "[1] 2092 2092\n",
      "[1] 2092 2092\n",
      "[1] 2092 2092\n",
      "[1] 2092 2092\n",
      "[1] 2092 2092\n",
      "[1] 2092 2092\n",
      "[1] 2092 2092\n",
      "[1] 2092 2092\n",
      "[1] 2092 2092\n",
      "[1] 2092 2092\n",
      "[1] 2092 2092\n",
      "[1] 2092 2092\n",
      "[1] 2092 2092\n",
      "[1] 2092 2092\n",
      "[1] 2092 2092\n",
      "[1] 2092 2092\n",
      "[1] 2092 2092\n",
      "[1] 2092 2092\n",
      "[1] 2092 2092\n",
      "[1] 2092 2092\n",
      "Warning message:\n",
      "In subset_ind(ind, all_ind) :\n",
      "  Some ind not in cross: JAC_DO.0011, JAC_DO.0014, JAC_DO.0036, JAC_DO.0040, JAC_DO.0043, JAC_DO.0048, JAC_DO.0069, JAC_DO.0222, JAC_DO.0236, JAC_DO.0237, JAC_DO.0248, JAC_DO.0267, JAC_DO.0298, JAC_DO.0333, JAC_DO.0334, JAC_DO.0338, JAC_DO.0351, JAC_DO.0421, JAC_DO.0491, JAC_DO.0517, JAC_DO.0528, JAC_DO.0537, JAC_DO.0539, JAC_DO.0540, ELL_9376F1.01, ELL_9376F1.02, ELL_9376F1.03, ELL_9376F1.04, ELL_9376F1.05, ELL_9376F1.06, ELL_9376F1.07, ELL_9376F1.08, ELL_9376F1.09, ELL_9376F1.10, ELL_9376F1.11, ELL_9376F1.12, ELL_9376F1.13, ELL_9376F1.14, ELL_9376F1.15, ELL_9376F1.16, ELL_9376F1.17, ELL_9376F1.18, ELL_9376F1.19, ELL_9376F1.20, ELL_9376F2.01, ELL_9376F2.02, ELL_9376F2.03, ELL_9376F2.04, ELL_9376F2.05, ELL_9376F2.06, ELL_9376F2.07, ELL_9376F2.08, ELL_9376F2.09, ELL_9376F2.10, ELL_9376F2.11, ELL_9376F2.12, ELL_9376F2.13, ELL_9376F2.14, ELL_9376F2.15, ELL_9376F2.16, ELL_9376F2.17, ELL_9376F2.18, ELL_9376F2.19, ELL_9376F2.20, ELL_9376F3.01, ELL_9376F3.02, ELL_9376F3.03, ELL_9376F3.04, ELL_9 [... truncated]\n"
     ]
    }
   ],
   "source": [
    "#log_file = '/home/wright/do_mice/qtl_lifespan_191022_deh_ell_jac/logs/merge_apr_JAC_ELL_HAR_191023.log'\n",
    "log_file = '/home/wright/do_mice/qtl_lifespan_191022_deh_ell_jac/logs/merge_apr_JAC_ELL_HAR_200514.log'\n",
    "#!ssh cb \"squeue -u wright\"\n",
    "!ssh cb \"head -n 4000 {log_file}\"\n",
    "!ssh cb \"head -n 40 {log_file}.err\""
   ]
  }
 ],
 "metadata": {
  "kernelspec": {
   "display_name": "Python 3",
   "language": "python",
   "name": "python3"
  },
  "language_info": {
   "codemirror_mode": {
    "name": "ipython",
    "version": 3
   },
   "file_extension": ".py",
   "mimetype": "text/x-python",
   "name": "python",
   "nbconvert_exporter": "python",
   "pygments_lexer": "ipython3",
   "version": "3.8.0"
  },
  "latex_envs": {
   "LaTeX_envs_menu_present": true,
   "autocomplete": true,
   "bibliofile": "biblio.bib",
   "cite_by": "apalike",
   "current_citInitial": 1,
   "eqLabelWithNumbers": true,
   "eqNumInitial": 1,
   "hotkeys": {
    "equation": "Ctrl-E",
    "itemize": "Ctrl-I"
   },
   "labels_anchors": false,
   "latex_user_defs": false,
   "report_style_numbering": false,
   "user_envs_cfg": false
  }
 },
 "nbformat": 4,
 "nbformat_minor": 2
}
